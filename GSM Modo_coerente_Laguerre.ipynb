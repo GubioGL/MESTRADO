{
  "cells": [
    {
      "cell_type": "markdown",
      "metadata": {
        "id": "pXTGOZ9_u-G5"
      },
      "source": [
        "## Pacotes "
      ]
    },
    {
      "cell_type": "code",
      "execution_count": 8,
      "metadata": {
        "colab": {
          "base_uri": "https://localhost:8080/"
        },
        "id": "g0-ketKMoOVY",
        "outputId": "2a803954-1da7-4fff-ce05-0cd8a7f7dfa5"
      },
      "outputs": [],
      "source": [
        "from LightPipes import *\n",
        "from matplotlib import image\n",
        "from scipy.fft import fft2, ifft2 ,fftshift\n",
        "from scipy import special\n",
        "import matplotlib.pyplot as plt\n",
        "import matplotlib.image as mpimg\n",
        "import matplotlib.pyplot as plt\n",
        "import numpy as np\n",
        "import scipy\n",
        "import random\n",
        "\n",
        "def Lambda(M,N,sigma,delta,mu,k):\n",
        "  a = 1/(4*sigma**2) # [L]^-2\n",
        "  b = 1/(2*delta**2) # [L]^-2\n",
        "  c = 2*np.sqrt( a**2 + 2*a*b + (k*mu)**2/4)\n",
        "  L = (np.pi/(a + b + c/2))*(( b + (k*mu)/2 )/(  b - (k*mu)/2 ))**(M/2)*((a + b - c/2)/( a + b + c/2 ))**(abs(M)/2 + N )\n",
        "  return L"
      ]
    },
    {
      "cell_type": "markdown",
      "metadata": {
        "id": "9qVsgXZDC79d"
      },
      "source": [
        "# Distribuição dos Autovalores"
      ]
    },
    {
      "cell_type": "code",
      "execution_count": 13,
      "metadata": {
        "id": "IAprXd9lmM1m"
      },
      "outputs": [
        {
          "name": "stdout",
          "output_type": "stream",
          "text": [
            "Números de Modos 11\n",
            "[[0, 0], [1, 0], [2, 0], [3, 0], [4, 0], [5, 0], [6, 0], [7, 0], [8, 0], [9, 0], [10, 0]]\n",
            "[1.0, 0.6667178208324576, 0.444512652615581, 0.2963645070843154, 0.19759149833534018, 0.13173777318515817, 0.08783192105932923, 0.05855910700820442, 0.039042400214404756, 0.02603026399101661, 0.017354840883784185]\n"
          ]
        },
        {
          "data": {
            "image/png": "[encoded data removed]",
            "text/plain": [
              "<Figure size 432x288 with 1 Axes>"
            ]
          },
          "metadata": {
            "needs_background": "light"
          },
          "output_type": "display_data"
        }
      ],
      "source": [
        "# Parâmetros do feixe TGSM\n",
        "lambd = 780*nm        # light wavelength\n",
        "sigma = .15*mm         # largura\n",
        "delta = .15*mm         # comprimento de coerência\n",
        "mu    = .00551737136051/mm         # fator de twist\n",
        "k     = 2*np.pi/lambd\n",
        "\n",
        "N = 10\n",
        "M = 50\n",
        "A = []\n",
        "x_y = []\n",
        "Modos = 0\n",
        "for i in range(0,N):\n",
        "  for j in range(-M,M):\n",
        "    B = Lambda(j,i,sigma,delta,mu,k)/Lambda(0,0,sigma,delta,mu,k)\n",
        "    if B > 0.015:\n",
        "      A.append( B )\n",
        "      x_y.append([j,i])\n",
        "      Modos +=1\n",
        "\n",
        "\n",
        "print(\"Números de Modos\", Modos )\n",
        "print(x_y)\n",
        "print(A)\n",
        "A.sort(reverse=True)\n",
        "plt.title( f\"q = {delta/sigma}, Last term ={A[-1]}\")\n",
        "plt.plot(A,\".\")\n",
        "\n",
        "plt.show()"
      ]
    },
    {
      "cell_type": "code",
      "execution_count": null,
      "metadata": {
        "id": "PSqEfj_QwdOL"
      },
      "outputs": [],
      "source": [
        "\n",
        "sigma = .5*mm         # largura\n",
        "delta = .28*mm         # comprimento de coerência\n",
        "\n",
        "N = 5\n",
        "M = 5\n",
        "A = []\n",
        "Modos = 0\n",
        "for i in range(0,N):\n",
        "  for j in range(-M,M):\n",
        "    B = Lambda(j,i)/Lambda(0,0)\n",
        "    if B > 0.01:\n",
        "      A.append( B )\n",
        "      Modos +=1\n",
        "\n",
        "A.sort(reverse=True)\n",
        "print(\"Números de Modos\", Modos )\n",
        "plt.title( f\"q = {delta/sigma}, Last term ={A[-1]}\")\n",
        "plt.plot(A,\".\")\n",
        "plt.show()\n",
        "#####################################################################\n",
        "Q = [1,0.75,0.5,0.25]\n",
        "for q in Q :\n",
        "  A = []\n",
        "  Modos = 0\n",
        "  for i in range(0,N):\n",
        "    for j in range(-M,M):\n",
        "      B = ( (1+q/2-np.sqrt(q**2/4 + q))/(1 +q/2+np.sqrt(q**2/4 + q))\n",
        "          )**(abs(j)/2 + i)\n",
        "      if B > 0.001:\n",
        "        A.append( B )\n",
        "        Modos +=1\n",
        "  A.sort(reverse=True)\n",
        "  print(\"Números de Modos\", Modos )\n",
        "  plt.title( f\"q = {q},Last term ={A[-1]}\")\n",
        "  plt.plot(A,\".\")\n",
        "  plt.show()"
      ]
    },
    {
      "cell_type": "markdown",
      "metadata": {
        "id": "ZIgHHADzJzby"
      },
      "source": [
        "#Campo "
      ]
    },
    {
      "cell_type": "code",
      "execution_count": null,
      "metadata": {
        "colab": {
          "base_uri": "https://localhost:8080/"
        },
        "id": "LwjM-hhzDGnD",
        "outputId": "f0e3732a-cb17-43e5-8321-abbaa65c43f9"
      },
      "outputs": [
        {
          "name": "stdout",
          "output_type": "stream",
          "text": [
            "10\n"
          ]
        }
      ],
      "source": [
        "sigma = .5*mm        # largura\n",
        "delta = .1*mm        # comprimento de coerência\n",
        "\n",
        "Numero_de_Soma_Inc = 0\n",
        "L = 50\n",
        "P = 50\n",
        "for j in range(-L,L+1):\n",
        "  for jj in range(P+1):\n",
        "    cutoff  = Lambda(j,jj,sigma,delta)/Lambda(0,0,sigma,delta)\n",
        "    if (cutoff >= 0.5):\n",
        "      Numero_de_Soma_Inc +=1\n",
        "print(Numero_de_Soma_Inc)"
      ]
    },
    {
      "cell_type": "code",
      "execution_count": null,
      "metadata": {
        "id": "UMwndpmYNAbT"
      },
      "outputs": [],
      "source": [
        "#Parâmetros do feixe GSM\n",
        "lambd = 780*nm        # light wavelength\n",
        "n     = 2**9          # Dimensão \n",
        "dx    = 10*um         # Tamanho do pixel\n",
        "x = np.arange(-n/2, n/2,1)*dx\n",
        "xx,yy = np.meshgrid(x,x) \n",
        "\n",
        "#Gerando os campos para a soma incoerente\n",
        "\n",
        "a = 1/(4*sigma**2) # [L]^-2\n",
        "b = 1/(2*delta**2) # [L]^-2\n",
        "c = 2*np.sqrt( a**2 + 2*a*b ) \n",
        "w = np.sqrt( 2/c )\n",
        "\n",
        "S =  np.exp( 1j*np.zeros((n,n,Numero_de_Soma_Inc))) # Campo \n",
        "aux3 = np.zeros( (n,n,Numero_de_Soma_Inc) )           # Intensidade \n",
        "\n",
        "i = 0\n",
        "for j in range(-L,L+1):\n",
        "  for jj in range(P+1):\n",
        "    cutoff  = Lambda(j,jj,sigma,delta)/Lambda(0,0,sigma,delta)\n",
        "    if (cutoff >= 0.5):\n",
        "      r    = np.sqrt(xx**2+yy**2)                                                 \n",
        "      C    = np.sqrt(2*np.math.factorial(jj)/(np.pi*np.math.factorial(jj+abs(j))))\n",
        "      PL   = scipy.special.assoc_laguerre(2*r**2/w**2,jj,abs(j))\n",
        "      Fase = np.exp(- 1j*j*np.arctan2(yy,xx) )\n",
        "\n",
        "      LG   = C*1/w*(r*np.sqrt(2)/w)**abs(j)*PL*np.exp(-r**2/w**2)*Fase\n",
        "\n",
        "      S[:,:,i] = np.sqrt(Lambda(j,jj,sigma,delta))*LG\n",
        "      aux3[:,:,i] = abs( np.sqrt(Lambda(j,jj,sigma,delta))*LG )**2\n",
        "      i += 1"
      ]
    },
    {
      "cell_type": "code",
      "execution_count": null,
      "metadata": {
        "colab": {
          "base_uri": "https://localhost:8080/",
          "height": 233
        },
        "id": "11iCkj1BORc6",
        "outputId": "f5858b5c-eb72-444d-b41d-84c3afc32f69"
      },
      "outputs": [
        {
          "data": {
            "image/png": "[encoded data removed]",
            "text/plain": [
              "<Figure size 504x216 with 2 Axes>"
            ]
          },
          "metadata": {
            "needs_background": "light"
          },
          "output_type": "display_data"
        }
      ],
      "source": [
        "B = np.exp(-xx[256]**2/(2*sigma**2) )\n",
        "# campo total --> soma incoerente\n",
        "A = np.sum( aux3 ,2)\n",
        "A = A/A.max()\n",
        "\n",
        "fig, (ax1, ax2) = plt.subplots(1,2,figsize=(7,3))\n",
        "fig.suptitle('Distribuição de Intensidade')\n",
        "\n",
        "ax1.imshow(A,cmap=\"jet\")\n",
        "ax2.plot(A[:,256])\n",
        "ax2.plot(B,\"--\")\n",
        "plt.show()"
      ]
    },
    {
      "cell_type": "code",
      "execution_count": null,
      "metadata": {
        "id": "eA1smSvv1w5G"
      },
      "outputs": [],
      "source": [
        "xx[256]^2/(4*sigma**2)"
      ]
    },
    {
      "cell_type": "markdown",
      "metadata": {
        "id": "EeUPtT4SelrJ"
      },
      "source": [
        "# Doc(r,0)"
      ]
    },
    {
      "cell_type": "code",
      "execution_count": null,
      "metadata": {
        "colab": {
          "base_uri": "https://localhost:8080/",
          "height": 282
        },
        "id": "d2O_hgb0ObS4",
        "outputId": "eb033cb7-d61c-4451-ced8-a93ef0dfe7ab"
      },
      "outputs": [
        {
          "data": {
            "image/png": "[encoded data removed]",
            "text/plain": [
              "<Figure size 432x288 with 2 Axes>"
            ]
          },
          "metadata": {
            "needs_background": "light"
          },
          "output_type": "display_data"
        }
      ],
      "source": [
        "ref = [0,0]                        \n",
        "index = np.where((xx==ref[0])*(yy==ref[1])==True)        \n",
        "\n",
        "mu = np.zeros_like(S[:,:,1])\n",
        "intMap = np.sum(abs(S)**2,2) \n",
        "\n",
        "for ii in range(0,n):\n",
        "    for jj in range(0,n):\n",
        "      mu[ii,jj] = np.sum(np.conj(S[ii,jj,:])*S[index[0],index[1],:])/np.sqrt(intMap[ii,jj]*intMap[index[0],index[1]])\n",
        "\n",
        "img = abs(mu) \n",
        "img = img/img.max()\n",
        "\n",
        "plt.imshow(img,cmap = \"jet\");\n",
        "plt.title('|$\\mu(\\mathbf{r},0)$|');\n",
        "plt.colorbar();\n",
        "plt.show()"
      ]
    },
    {
      "cell_type": "markdown",
      "metadata": {
        "id": "5-A3f9iGm8iu"
      },
      "source": [
        "# Interferencia "
      ]
    },
    {
      "cell_type": "code",
      "execution_count": null,
      "metadata": {
        "colab": {
          "base_uri": "https://localhost:8080/",
          "height": 269
        },
        "id": "BpJ_9NQYniIm",
        "outputId": "cf0622f1-00f7-48e6-8b1a-aeaa5bd77c09"
      },
      "outputs": [
        {
          "data": {
            "image/png": "[encoded data removed]",
            "text/plain": [
              "<Figure size 432x288 with 1 Axes>"
            ]
          },
          "metadata": {
            "needs_background": "light"
          },
          "output_type": "display_data"
        }
      ],
      "source": [
        "# Inicialização\n",
        "\n",
        "class grid:\n",
        "  pass\n",
        "grid.N  = n;   \n",
        "grid.dx = dx                               \n",
        "grid.x  = np.arange(-grid.N/2,grid.N/2,1)*grid.dx;\n",
        "[grid.xx,grid.yy] = np.meshgrid(grid.x,grid.x);  \n",
        "\n",
        "d0 = .2*mm; \n",
        "a0 = .06*mm; \n",
        "# make slit\n",
        "fslit = (np.ones_like(grid.xx)*(abs(grid.xx+(d0/2))<=a0/2) +\n",
        "         np.ones_like(grid.xx)*(abs(grid.xx-(d0/2))<=a0/2));\n",
        "F  = Begin(abs(x[0])*2,lambd,n-1)  \n",
        "plt.imshow(fslit);plt.show()"
      ]
    },
    {
      "cell_type": "code",
      "execution_count": null,
      "metadata": {
        "colab": {
          "base_uri": "https://localhost:8080/",
          "height": 269
        },
        "id": "2I-WMqeXmPh-",
        "outputId": "16d3a490-f8dd-4921-9aec-97e0678b5613"
      },
      "outputs": [
        {
          "data": {
            "image/png": "[encoded data removed]",
            "text/plain": [
              "<Figure size 432x288 with 2 Axes>"
            ]
          },
          "metadata": {
            "needs_background": "light"
          },
          "output_type": "display_data"
        }
      ],
      "source": [
        "# passando pelas fendas --> soma incoerente\n",
        "imagem =[0]\n",
        "aux4 = np.exp(1j*np.zeros((n,n,i)))\n",
        "FF = F.copy(F)\n",
        "\n",
        "for ii in range(i):\n",
        "  FF.field = S[:,:,ii]*fslit\n",
        "  FF1      = Forvard(15*cm,FF)\n",
        "  aux4[:,:,ii] = Intensity(FF1)\n",
        "  imagem     += Intensity(FF1)\n",
        "imagem = imagem/imagem.max()\n",
        "plt.imshow(imagem,cmap = \"jet\");plt.colorbar();plt.show()"
      ]
    },
    {
      "cell_type": "code",
      "execution_count": null,
      "metadata": {
        "id": "0x9QvMSKrNhl"
      },
      "outputs": [],
      "source": [
        "# Ajustado para analisar na Direita e esquerda\n",
        "### Função da Suavização #########################\n",
        "def SUAVE(media, linha):\n",
        "  novalista = []\n",
        "  for i in range(media ,2**9,1):\n",
        "    b = imagem[linha,i-media:i]\n",
        "    AA = sum(b)/media\n",
        "    novalista.append(AA)\n",
        "  return np.array(novalista)\n",
        "\n",
        "def MM(suavizar,linha):\n",
        "  maxi2 = SUAVE(suavizar,linha).max()\n",
        "  posiçao2 = 0\n",
        "  for i in SUAVE(suavizar,linha):\n",
        "    if i == maxi2:\n",
        "      break \n",
        "    posiçao2 +=1 \n",
        "\n",
        "#### Encontrar o valor mínimo local a Direita parti do maximo global\n",
        "  mini = 0\n",
        "  Vimax = SUAVE(suavizar,linha)[posiçao2:2**9]\n",
        "  for i in range(len(Vimax)):\n",
        "    if i == len(Vimax)-1:\n",
        "      break\n",
        "    if Vimax[i] > Vimax[i+1]:\n",
        "      mini = Vimax[i+1]\n",
        "    elif Vimax[i] < Vimax[i+1]:\n",
        "      mini = Vimax[i]\n",
        "      break   \n",
        "  # Vamos encontrar o posição no qual temos mínimo\n",
        "  PMin = 0 \n",
        "  for i in Vimax:\n",
        "    if i == mini:\n",
        "      break \n",
        "    PMin += 1  \n",
        "  posiçaomin = posiçao2 + PMin -1\n",
        "#######################################################################\n",
        "#### Encontrar o valor mínimo local a ESQUERDA a parti do maximo lobal\n",
        "  miniE = 0\n",
        "  xamiV = SUAVE(suavizar,linha)[0:posiçao2]\n",
        "#########################################################\n",
        "  for i in range(len(xamiV)):\n",
        "    i += 1\n",
        "    if i == len(xamiV)-1:\n",
        "      break\n",
        "    if xamiV[-i] > xamiV[-i-1]:\n",
        "      miniE = xamiV[-i-1]\n",
        "    elif xamiV[-i] < xamiV[-i-1]:\n",
        "      miniE = xamiV[-i]\n",
        "      break   \n",
        "  # Vamos encontrar o posição no qual temos mínimo\n",
        "  PMinE = 0 \n",
        "  for i in range(len(xamiV)):\n",
        "    i+=1\n",
        "    if xamiV[-i] == miniE: \n",
        "      break \n",
        "    PMinE += 1  \n",
        "  posiçaominE = posiçao2 - PMinE\n",
        "\n",
        "  if miniE > mini:\n",
        "    posiçaomin = posiçaominE\n",
        "    mini       = miniE\n",
        "  # [0] = Valor max,[1] = Posição max ,[2] = Valor Min,[3] = Posição Min\n",
        "  return maxi2, posiçao2, mini, posiçaomin  #,miniE, posiçaominE  "
      ]
    },
    {
      "cell_type": "code",
      "execution_count": null,
      "metadata": {
        "colab": {
          "base_uri": "https://localhost:8080/",
          "height": 300
        },
        "id": "EduJ9UforZIF",
        "outputId": "d3acb82b-a99f-4c1e-fd44-753890569f47"
      },
      "outputs": [
        {
          "data": {
            "image/png": "[encoded data removed]",
            "text/plain": [
              "<Figure size 432x288 with 1 Axes>"
            ]
          },
          "metadata": {
            "needs_background": "light"
          },
          "output_type": "display_data"
        },
        {
          "name": "stdout",
          "output_type": "stream",
          "text": [
            "Valor medio da grau de coerencia/Visibilidade  0.7712313856423896\n"
          ]
        }
      ],
      "source": [
        "# A VISIBILIDADE TODA\n",
        "VisibilidadeN = []\n",
        "q = 2\n",
        "qq = 0\n",
        "for j in range(grid.N//2 -30,grid.N//2 +30):\n",
        "  V = ( MM(q,j)[0]-MM(q,j)[2])/(MM(q,j)[0]+MM(q,j)[2])\n",
        "  VisibilidadeN.append(V) \n",
        "  qq+=1\n",
        "  \n",
        "plt.plot(VisibilidadeN) \n",
        "plt.xlabel('Eixo y da Intensidade')\n",
        "plt.ylabel(\"Visibilidade\")\n",
        "plt.show()\n",
        "print(\"Valor medio da grau de coerencia/Visibilidade \",sum(VisibilidadeN)/qq)"
      ]
    },
    {
      "cell_type": "code",
      "execution_count": null,
      "metadata": {
        "id": "YSM0EzwzrkWf"
      },
      "outputs": [],
      "source": []
    }
  ],
  "metadata": {
    "colab": {
      "collapsed_sections": [
        "9qVsgXZDC79d",
        "EeUPtT4SelrJ",
        "5-A3f9iGm8iu"
      ],
      "name": "Modo coerente - Laguerre",
      "provenance": []
    },
    "kernelspec": {
      "display_name": "Python 3.10.4 64-bit",
      "language": "python",
      "name": "python3"
    },
    "language_info": {
      "codemirror_mode": {
        "name": "ipython",
        "version": 3
      },
      "file_extension": ".py",
      "mimetype": "text/x-python",
      "name": "python",
      "nbconvert_exporter": "python",
      "pygments_lexer": "ipython3",
      "version": "3.10.4"
    },
    "vscode": {
      "interpreter": {
        "hash": "0887de9007bcc48a5cd070686a300443bb89bcd697446debf2e5908f5b269775"
      }
    }
  },
  "nbformat": 4,
  "nbformat_minor": 0
}
